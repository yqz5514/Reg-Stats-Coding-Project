{
  "cells": [
    {
      "cell_type": "markdown",
      "metadata": {
        "id": "view-in-github",
        "colab_type": "text"
      },
      "source": [
        "<a href=\"https://colab.research.google.com/github/yqz5514/Reg-Stats-Coding-Project/blob/main/ER_Rules_Plot_R_demo2.ipynb\" target=\"_parent\"><img src=\"https://colab.research.google.com/assets/colab-badge.svg\" alt=\"Open In Colab\"/></a>"
      ]
    },
    {
      "cell_type": "markdown",
      "metadata": {
        "id": "dtdG4nhchUz8"
      },
      "source": [
        "## Instruction\n",
        "\n"
      ]
    },
    {
      "cell_type": "markdown",
      "metadata": {
        "id": "0nry-fPRhP13"
      },
      "source": [
        "This is the notebook for generating ES_rules_published_presidential_year dataset.\n",
        "\n",
        "---\n",
        "\n",
        "There are three parts in this notebook:\n",
        "\n",
        "1.   Download required files\n",
        "     \n",
        "\n",
        "*   All required files will be downloaded in this section\n",
        "\n",
        "\n",
        "2.   Install and Load packages\n",
        "\n",
        "\n",
        "*   All required library will be installed in this section.\n",
        "\n",
        "\n",
        "3.   Plot\n",
        "\n",
        "\n",
        "\n",
        "\n",
        "\n",
        "\n",
        "\n"
      ]
    },
    {
      "cell_type": "markdown",
      "metadata": {
        "id": "Xons65XF3tBl"
      },
      "source": [
        "## Download required files"
      ]
    },
    {
      "cell_type": "markdown",
      "metadata": {
        "id": "lYp-7NmnV_sD"
      },
      "source": [
        "In this section, all the files will be saved at notebook session storage (directory: /content) for the current session only. Three files will be download in this section for ploting.\n",
        "\n",
        "- Dataset (upload the .csv file to notebook session storage by selecting the file option on the sidebar, then select upload option. )\n",
        "- Font style\n",
        "- Logo"
      ]
    },
    {
      "cell_type": "code",
      "execution_count": 1,
      "metadata": {
        "colab": {
          "base_uri": "https://localhost:8080/"
        },
        "id": "sRn9KPjW8zEe",
        "outputId": "1161ec87-251a-4ac8-fc8f-0ad95b7358f3"
      },
      "outputs": [
        {
          "output_type": "stream",
          "name": "stderr",
          "text": [
            "Installing package into ‘/usr/local/lib/R/site-library’\n",
            "(as ‘lib’ is unspecified)\n",
            "\n",
            "also installing the dependencies ‘R.oo’, ‘R.methodsS3’\n",
            "\n",
            "\n",
            "Loading required package: R.oo\n",
            "\n",
            "Loading required package: R.methodsS3\n",
            "\n",
            "R.methodsS3 v1.8.2 (2022-06-13 22:00:14 UTC) successfully loaded. See ?R.methodsS3 for help.\n",
            "\n",
            "R.oo v1.25.0 (2022-06-12 02:20:02 UTC) successfully loaded. See ?R.oo for help.\n",
            "\n",
            "\n",
            "Attaching package: ‘R.oo’\n",
            "\n",
            "\n",
            "The following object is masked from ‘package:R.methodsS3’:\n",
            "\n",
            "    throw\n",
            "\n",
            "\n",
            "The following objects are masked from ‘package:methods’:\n",
            "\n",
            "    getClasses, getMethods\n",
            "\n",
            "\n",
            "The following objects are masked from ‘package:base’:\n",
            "\n",
            "    attach, detach, load, save\n",
            "\n",
            "\n",
            "R.utils v2.12.2 (2022-11-11 22:00:03 UTC) successfully loaded. See ?R.utils for help.\n",
            "\n",
            "\n",
            "Attaching package: ‘R.utils’\n",
            "\n",
            "\n",
            "The following object is masked from ‘package:utils’:\n",
            "\n",
            "    timestamp\n",
            "\n",
            "\n",
            "The following objects are masked from ‘package:base’:\n",
            "\n",
            "    cat, commandArgs, getOption, isOpen, nullfile, parse, warnings\n",
            "\n",
            "\n"
          ]
        }
      ],
      "source": [
        "#@title install R package for downloading files\n",
        "install.packages(\"R.utils\")\n",
        "library(\"R.utils\")\n",
        "\n"
      ]
    },
    {
      "cell_type": "code",
      "execution_count": 2,
      "metadata": {
        "id": "XTk3lUJHu6A1"
      },
      "outputs": [],
      "source": [
        "# download ES rules published data\n",
        "download.file(\"https://raw.githubusercontent.com/yqz5514/Reg-Stats-Coding-Project/main/ES_rules_published_presidential_year_(with_party)_2023-03-28.csv\",\n",
        "              \"ES_rules_published_presidential_year_(with_party)_2023-03-28.csv.gz\")\n",
        "gunzip('ES_rules_published_presidential_year_(with_party)_2023-03-28.csv.gz')\n"
      ]
    },
    {
      "cell_type": "code",
      "execution_count": 3,
      "metadata": {
        "id": "f_i8G8Lh9X-4"
      },
      "outputs": [],
      "source": [
        "# Dowloading logo and font style for reg stats plots\n",
        "download.file(\"https://raw.githubusercontent.com/yqz5514/Reg-Stats-Coding-Project/main/gw_ci_rsc_2cs_pos.png\",\n",
        "              \"gw_ci_rsc_2cs_pos.png.gz\")\n",
        "download.file(\"https://github.com/yqz5514/Reg-Stats-Coding-Project/raw/main/a-avenir-next-lt-pro.otf\",\n",
        "              \"a-avenir-next-lt-pro.otf.gz\")\n",
        "gunzip('gw_ci_rsc_2cs_pos.png.gz')\n",
        "gunzip('a-avenir-next-lt-pro.otf.gz')"
      ]
    },
    {
      "cell_type": "markdown",
      "metadata": {
        "id": "iktKiZxI3YXX"
      },
      "source": [
        "##Install and load packages"
      ]
    },
    {
      "cell_type": "markdown",
      "metadata": {
        "id": "DT1eM8jV3-mZ"
      },
      "source": [
        "In this section, all required packages and library will be installed."
      ]
    },
    {
      "cell_type": "code",
      "execution_count": 4,
      "metadata": {
        "colab": {
          "base_uri": "https://localhost:8080/"
        },
        "id": "mIscvf3yzWmz",
        "outputId": "1db6ccb5-19d6-4e56-9d6c-b1a74ce313a5"
      },
      "outputs": [
        {
          "output_type": "stream",
          "name": "stderr",
          "text": [
            "Installing package into ‘/usr/local/lib/R/site-library’\n",
            "(as ‘lib’ is unspecified)\n",
            "\n",
            "Installing package into ‘/usr/local/lib/R/site-library’\n",
            "(as ‘lib’ is unspecified)\n",
            "\n",
            "also installing the dependencies ‘sysfonts’, ‘showtextdb’\n",
            "\n",
            "\n",
            "Installing package into ‘/usr/local/lib/R/site-library’\n",
            "(as ‘lib’ is unspecified)\n",
            "\n",
            "also installing the dependencies ‘proxy’, ‘e1071’, ‘wk’, ‘classInt’, ‘Rcpp’, ‘s2’, ‘units’, ‘sf’, ‘gridpattern’\n",
            "\n",
            "\n",
            "Loading required package: sysfonts\n",
            "\n",
            "Loading required package: showtextdb\n",
            "\n"
          ]
        }
      ],
      "source": [
        "#@title install&load packages\n",
        "install.packages('png') # use for load png file\n",
        "install.packages('showtext') #directly works on .OTF fonts, for custom font on ggplot\n",
        "install.packages('ggpattern') # for plot pattern\n",
        "# load packages\n",
        "library(ggplot2)\n",
        "library(showtext)\n",
        "library(png)\n",
        "library(ggpattern)\n"
      ]
    },
    {
      "cell_type": "code",
      "execution_count": 5,
      "metadata": {
        "id": "On-xyGcr2fWD"
      },
      "outputs": [],
      "source": [
        "#@title load custome font to system\n",
        "font_add(\"avenir_lt_pro\",\"a-avenir-next-lt-pro.otf\")\n",
        "showtext_auto()"
      ]
    },
    {
      "cell_type": "markdown",
      "metadata": {
        "id": "U1nGogERz42I"
      },
      "source": [
        "## Plot\n"
      ]
    },
    {
      "cell_type": "markdown",
      "metadata": {
        "id": "3nswHXjw4zL_"
      },
      "source": [
        " - In this section, the plot will be\n",
        "generated, and a pdf version of plot will be automatically saved to notebook session storage.\n",
        " - Download the plot.pdf : select file option on the left sidebar, double click the plot.pdf file for download."
      ]
    },
    {
      "cell_type": "code",
      "execution_count": 6,
      "metadata": {
        "id": "wasleHzRKB8b"
      },
      "outputs": [],
      "source": [
        "#@title read and get png file from local\n",
        "get_png <- function(filename) {\n",
        "  grid::rasterGrob(png::readPNG(filename),interpolate = TRUE)\n",
        "}\n",
        "\n",
        "l <- get_png(\"gw_ci_rsc_2cs_pos.png\")"
      ]
    },
    {
      "cell_type": "code",
      "execution_count": 8,
      "metadata": {
        "colab": {
          "base_uri": "https://localhost:8080/",
          "height": 437
        },
        "id": "3wsZheVP6LYp",
        "outputId": "1018f363-eac2-4f19-d8e1-cefd064717a9"
      },
      "outputs": [
        {
          "output_type": "display_data",
          "data": {
            "text/plain": [
              "plot without title"
            ],
            "image/png": "[encoded data removed]"
          },
          "metadata": {
            "image/png": {
              "width": 420,
              "height": 420
            }
          }
        }
      ],
      "source": [
        "# generate plot\n",
        "\n",
        "\n",
        "# data : Economically Significant Final Rules Published by Presidential Year\n",
        "\n",
        "#load data\n",
        "sig <- read.csv(\"/content/ES_rules_published_presidential_year_(with_party)_2023-03-28.csv\")\n",
        "\n",
        "# modify column names\n",
        "colnames(sig) <- c(\"year\", \"party\", \"econ\", \"excluding.withdrawn\")\n",
        "\n",
        "# delete excluding.withdrawn column\n",
        "sig$excluding.withdrawn <- NULL\n",
        "\n",
        "# remove rows with NA values\n",
        "sig <- sig[complete.cases(sig), ]\n",
        "\n",
        "# make party factor variable\n",
        "sig$party <- as.factor(sig$party)\n",
        "\n",
        "# data : Economically Significant Final Rules Published by Presidential Year\n",
        "# generate bar1\n",
        "current_date <- format(Sys.Date(), \"%B %d, %Y\")\n",
        "\n",
        "caption_text <- paste(\"Sources: Office of the Federal Register (federalregister.gov) for the years starting 2021;\\n       Office of Information and Regulatory Affairs (OIRA) (reginfo.gov) for all prior years.\\n\\nUpdated:\", current_date)\n",
        "bar1 <-\n",
        "  ggplot(sig, aes(x = year, y = econ, fill= party,pattern = party)) +\n",
        "  geom_bar_pattern(stat = \"identity\", width = 0.5,\n",
        "                   pattern_color = NA,\n",
        "                    pattern_fill = \"#B2DDF4\",\n",
        "                    pattern_angle = 45,\n",
        "                    pattern_density = 0.1,\n",
        "                    pattern_spacing = 0.03,\n",
        "                   # pattern_key_scale_factor = 1\n",
        "                   ) +\n",
        "  scale_fill_manual(values = c(\"#033C5A\",\"#C9102F\")) +\n",
        "  scale_pattern_manual(values = c(Democratic = \"stripe\", Republican = \"none\")) +\n",
        "  theme_minimal() +\n",
        "  ggtitle(\"Economically Significant Final Rules Published \\nby Presidential Year\") +\n",
        "  ylab(\"Number of Rules\") +\n",
        "  xlab(\"\") +\n",
        "  scale_y_continuous(breaks = seq(0, max(sig$econ) + 25, by = 25), expand = c(0, 0), limits = c(-2, max(sig$econ) + 25)) +\n",
        "  # scale_y_continuous()\n",
        "  annotation_custom(l, xmin = -10, xmax = 20, ymin = -20, ymax = -40) + # for logo\n",
        "  coord_cartesian(clip = \"off\") +\n",
        "  theme(\n",
        "    plot.title = element_text(hjust = 0.5, vjust=-2, margin = margin(b = 40, unit = \"pt\"), size=20),\n",
        "    axis.text.x = element_text(angle = 65, hjust = 1, vjust = 1,size=12),\n",
        "    legend.position = \"none\",\n",
        "    panel.grid.major.x = element_blank(),\n",
        "    axis.text.y = element_text(size=12),\n",
        "    axis.title.y = element_text(size = 12, angle = 90, vjust = 1),\n",
        "    panel.grid.major.y = element_line(color = \"#E0E0E0\", linetype = \"solid\"),\n",
        "    panel.grid.minor = element_blank(),\n",
        "    text =element_text(family = \"avenir_lt_pro\"),\n",
        "    plot.caption = element_text(hjust = 1, margin = margin(t = 0, l = 6, unit = \"pt\"),size=11),\n",
        "    plot.margin = unit(c(1, 1, 3, 1), \"lines\"),\n",
        "    axis.ticks.x = element_line()\n",
        "    )+\n",
        "  labs(caption = caption_text)\n",
        "# +\n",
        "#   annotate(\n",
        "#     geom = \"segment\",\n",
        "#     x = sig$year,\n",
        "#     xend = sig$year,\n",
        "#     y = 0,\n",
        "#     yend = -2,\n",
        "#     color = \"grey\")\n",
        "\n",
        "bar1\n",
        "\n",
        "ggsave(\"#B2DDF4.pdf\",device = cairo_pdf, width = 12.5, height = 9, dpi = 300)\n",
        "\n",
        "\n",
        "ggsave(\"ES rules published presidential year.pdf\",device = cairo_pdf, width = 12.5, height = 9, dpi = 300)\n"
      ]
    },
    {
      "cell_type": "code",
      "source": [],
      "metadata": {
        "id": "gruKAutzI2Z6"
      },
      "execution_count": null,
      "outputs": []
    }
  ],
  "metadata": {
    "colab": {
      "provenance": [],
      "include_colab_link": true
    },
    "kernelspec": {
      "display_name": "R",
      "name": "ir"
    },
    "language_info": {
      "name": "R"
    }
  },
  "nbformat": 4,
  "nbformat_minor": 0
}